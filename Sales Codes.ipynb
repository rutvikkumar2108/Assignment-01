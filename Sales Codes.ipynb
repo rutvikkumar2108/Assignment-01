{
 "cells": [
  {
   "cell_type": "code",
   "execution_count": 2,
   "id": "5e908ad2",
   "metadata": {},
   "outputs": [],
   "source": [
    "import numpy as np\n",
    "import pandas as pd"
   ]
  },
  {
   "cell_type": "code",
   "execution_count": 3,
   "id": "6690ece2",
   "metadata": {},
   "outputs": [],
   "source": [
    "df=pd.read_csv(\"C:/Users/ENTER NAME/Downloads/Sample_Data.csv\")"
   ]
  },
  {
   "cell_type": "code",
   "execution_count": 4,
   "id": "afa205dc",
   "metadata": {},
   "outputs": [
    {
     "data": {
      "text/plain": [
       "Index(['S.NO', 'District Name', 'Depot Code', 'Mandal_Name',\n",
       "       'Retailer Category', 'Category  A_Total Bottle',\n",
       "       'Category  A_Sale Value', 'Category  B_Total Bottle',\n",
       "       'Category  B_Sale Value', 'Category  C_Total Bottle',\n",
       "       'Category  C_Sale Value', 'Total Volume ', 'Total Sale Value', 'Month',\n",
       "       'Year', 'Unnamed: 15'],\n",
       "      dtype='object')"
      ]
     },
     "execution_count": 4,
     "metadata": {},
     "output_type": "execute_result"
    }
   ],
   "source": [
    "df.columns"
   ]
  },
  {
   "cell_type": "code",
   "execution_count": null,
   "id": "2e404927",
   "metadata": {},
   "outputs": [],
   "source": [
    "#2\n",
    "df[['District Name','Total Sale Value']]"
   ]
  },
  {
   "cell_type": "code",
   "execution_count": 10,
   "id": "2a28ce68",
   "metadata": {},
   "outputs": [
    {
     "data": {
      "text/plain": [
       "<pandas.core.groupby.generic.DataFrameGroupBy object at 0x0000027F762FB940>"
      ]
     },
     "execution_count": 10,
     "metadata": {},
     "output_type": "execute_result"
    }
   ],
   "source": [
    "df.groupby(['District Name','Mandal_Name'])"
   ]
  },
  {
   "cell_type": "code",
   "execution_count": 14,
   "id": "a6c08401",
   "metadata": {},
   "outputs": [
    {
     "data": {
      "text/plain": [
       "array([[1.        , 0.44876032],\n",
       "       [0.44876032, 1.        ]])"
      ]
     },
     "execution_count": 14,
     "metadata": {},
     "output_type": "execute_result"
    }
   ],
   "source": [
    "np.corrcoef(df['Category  A_Sale Value'],df['Category  B_Sale Value'])"
   ]
  },
  {
   "cell_type": "code",
   "execution_count": null,
   "id": "74b5d3c3",
   "metadata": {},
   "outputs": [],
   "source": [
    "df['Mandal_Name'].unique()"
   ]
  },
  {
   "cell_type": "code",
   "execution_count": 11,
   "id": "4341b840",
   "metadata": {},
   "outputs": [],
   "source": [
    "df_3=df[((df['Month']==3) | (df['Month']==4)| (df['Month']==5))& (df['Year']==2022)]"
   ]
  },
  {
   "cell_type": "code",
   "execution_count": null,
   "id": "8b0ab607",
   "metadata": {},
   "outputs": [],
   "source": []
  },
  {
   "cell_type": "code",
   "execution_count": 16,
   "id": "6aa601f6",
   "metadata": {},
   "outputs": [
    {
     "data": {
      "text/html": [
       "<div>\n",
       "<style scoped>\n",
       "    .dataframe tbody tr th:only-of-type {\n",
       "        vertical-align: middle;\n",
       "    }\n",
       "\n",
       "    .dataframe tbody tr th {\n",
       "        vertical-align: top;\n",
       "    }\n",
       "\n",
       "    .dataframe thead th {\n",
       "        text-align: right;\n",
       "    }\n",
       "</style>\n",
       "<table border=\"1\" class=\"dataframe\">\n",
       "  <thead>\n",
       "    <tr style=\"text-align: right;\">\n",
       "      <th></th>\n",
       "      <th>District Name</th>\n",
       "      <th>Total Volume</th>\n",
       "    </tr>\n",
       "  </thead>\n",
       "  <tbody>\n",
       "    <tr>\n",
       "      <th>25393</th>\n",
       "      <td>District-H</td>\n",
       "      <td>219770</td>\n",
       "    </tr>\n",
       "    <tr>\n",
       "      <th>223</th>\n",
       "      <td>District-K</td>\n",
       "      <td>218532</td>\n",
       "    </tr>\n",
       "    <tr>\n",
       "      <th>52601</th>\n",
       "      <td>District-J</td>\n",
       "      <td>215240</td>\n",
       "    </tr>\n",
       "    <tr>\n",
       "      <th>25432</th>\n",
       "      <td>District-H</td>\n",
       "      <td>213174</td>\n",
       "    </tr>\n",
       "    <tr>\n",
       "      <th>28519</th>\n",
       "      <td>District-J</td>\n",
       "      <td>209928</td>\n",
       "    </tr>\n",
       "    <tr>\n",
       "      <th>...</th>\n",
       "      <td>...</td>\n",
       "      <td>...</td>\n",
       "    </tr>\n",
       "    <tr>\n",
       "      <th>43460</th>\n",
       "      <td>District-G</td>\n",
       "      <td>2264</td>\n",
       "    </tr>\n",
       "    <tr>\n",
       "      <th>62409</th>\n",
       "      <td>District-H</td>\n",
       "      <td>2058</td>\n",
       "    </tr>\n",
       "    <tr>\n",
       "      <th>15261</th>\n",
       "      <td>District-D</td>\n",
       "      <td>1430</td>\n",
       "    </tr>\n",
       "    <tr>\n",
       "      <th>12735</th>\n",
       "      <td>District-K</td>\n",
       "      <td>562</td>\n",
       "    </tr>\n",
       "    <tr>\n",
       "      <th>7418</th>\n",
       "      <td>District-G</td>\n",
       "      <td>398</td>\n",
       "    </tr>\n",
       "  </tbody>\n",
       "</table>\n",
       "<p>9680 rows × 2 columns</p>\n",
       "</div>"
      ],
      "text/plain": [
       "      District Name  Total Volume \n",
       "25393    District-H         219770\n",
       "223      District-K         218532\n",
       "52601    District-J         215240\n",
       "25432    District-H         213174\n",
       "28519    District-J         209928\n",
       "...             ...            ...\n",
       "43460    District-G           2264\n",
       "62409    District-H           2058\n",
       "15261    District-D           1430\n",
       "12735    District-K            562\n",
       "7418     District-G            398\n",
       "\n",
       "[9680 rows x 2 columns]"
      ]
     },
     "execution_count": 16,
     "metadata": {},
     "output_type": "execute_result"
    }
   ],
   "source": [
    "df_3[['District Name','Total Volume ']].sort_values(by='Total Volume ', ascending=False)"
   ]
  },
  {
   "cell_type": "code",
   "execution_count": 15,
   "id": "fe28c3ea",
   "metadata": {},
   "outputs": [
    {
     "data": {
      "text/html": [
       "<div>\n",
       "<style scoped>\n",
       "    .dataframe tbody tr th:only-of-type {\n",
       "        vertical-align: middle;\n",
       "    }\n",
       "\n",
       "    .dataframe tbody tr th {\n",
       "        vertical-align: top;\n",
       "    }\n",
       "\n",
       "    .dataframe thead th {\n",
       "        text-align: right;\n",
       "    }\n",
       "</style>\n",
       "<table border=\"1\" class=\"dataframe\">\n",
       "  <thead>\n",
       "    <tr style=\"text-align: right;\">\n",
       "      <th></th>\n",
       "      <th>Month</th>\n",
       "    </tr>\n",
       "  </thead>\n",
       "  <tbody>\n",
       "    <tr>\n",
       "      <th>19708</th>\n",
       "      <td>6</td>\n",
       "    </tr>\n",
       "    <tr>\n",
       "      <th>19714</th>\n",
       "      <td>5</td>\n",
       "    </tr>\n",
       "    <tr>\n",
       "      <th>61215</th>\n",
       "      <td>5</td>\n",
       "    </tr>\n",
       "    <tr>\n",
       "      <th>19431</th>\n",
       "      <td>3</td>\n",
       "    </tr>\n",
       "    <tr>\n",
       "      <th>19702</th>\n",
       "      <td>5</td>\n",
       "    </tr>\n",
       "    <tr>\n",
       "      <th>...</th>\n",
       "      <td>...</td>\n",
       "    </tr>\n",
       "    <tr>\n",
       "      <th>13221</th>\n",
       "      <td>10</td>\n",
       "    </tr>\n",
       "    <tr>\n",
       "      <th>45835</th>\n",
       "      <td>11</td>\n",
       "    </tr>\n",
       "    <tr>\n",
       "      <th>19419</th>\n",
       "      <td>9</td>\n",
       "    </tr>\n",
       "    <tr>\n",
       "      <th>42</th>\n",
       "      <td>11</td>\n",
       "    </tr>\n",
       "    <tr>\n",
       "      <th>50626</th>\n",
       "      <td>8</td>\n",
       "    </tr>\n",
       "  </tbody>\n",
       "</table>\n",
       "<p>7950 rows × 1 columns</p>\n",
       "</div>"
      ],
      "text/plain": [
       "       Month\n",
       "19708      6\n",
       "19714      5\n",
       "61215      5\n",
       "19431      3\n",
       "19702      5\n",
       "...      ...\n",
       "13221     10\n",
       "45835     11\n",
       "19419      9\n",
       "42        11\n",
       "50626      8\n",
       "\n",
       "[7950 rows x 1 columns]"
      ]
     },
     "execution_count": 15,
     "metadata": {},
     "output_type": "execute_result"
    }
   ],
   "source": [
    "df[df['District Name']=='District-C'].sort_values(by='Category  B_Sale Value', ascending=False)[['Month']]"
   ]
  },
  {
   "cell_type": "code",
   "execution_count": 17,
   "id": "5a042d24",
   "metadata": {},
   "outputs": [
    {
     "data": {
      "text/html": [
       "<div>\n",
       "<style scoped>\n",
       "    .dataframe tbody tr th:only-of-type {\n",
       "        vertical-align: middle;\n",
       "    }\n",
       "\n",
       "    .dataframe tbody tr th {\n",
       "        vertical-align: top;\n",
       "    }\n",
       "\n",
       "    .dataframe thead th {\n",
       "        text-align: right;\n",
       "    }\n",
       "</style>\n",
       "<table border=\"1\" class=\"dataframe\">\n",
       "  <thead>\n",
       "    <tr style=\"text-align: right;\">\n",
       "      <th></th>\n",
       "      <th>S.NO</th>\n",
       "      <th>District Name</th>\n",
       "      <th>Depot Code</th>\n",
       "      <th>Mandal_Name</th>\n",
       "      <th>Retailer Category</th>\n",
       "      <th>Category  A_Total Bottle</th>\n",
       "      <th>Category  A_Sale Value</th>\n",
       "      <th>Category  B_Total Bottle</th>\n",
       "      <th>Category  B_Sale Value</th>\n",
       "      <th>Category  C_Total Bottle</th>\n",
       "      <th>Category  C_Sale Value</th>\n",
       "      <th>Total Volume</th>\n",
       "      <th>Total Sale Value</th>\n",
       "      <th>Month</th>\n",
       "      <th>Year</th>\n",
       "      <th>Unnamed: 15</th>\n",
       "    </tr>\n",
       "  </thead>\n",
       "  <tbody>\n",
       "    <tr>\n",
       "      <th>0</th>\n",
       "      <td>672</td>\n",
       "      <td>District-C</td>\n",
       "      <td>84</td>\n",
       "      <td>Mandal 63</td>\n",
       "      <td>GRO</td>\n",
       "      <td>20974</td>\n",
       "      <td>3890320</td>\n",
       "      <td>1228</td>\n",
       "      <td>261320</td>\n",
       "      <td>0</td>\n",
       "      <td>0</td>\n",
       "      <td>22202</td>\n",
       "      <td>4151640</td>\n",
       "      <td>11</td>\n",
       "      <td>2021</td>\n",
       "      <td>NaN</td>\n",
       "    </tr>\n",
       "    <tr>\n",
       "      <th>1</th>\n",
       "      <td>660</td>\n",
       "      <td>District-C</td>\n",
       "      <td>84</td>\n",
       "      <td>Mandal 63</td>\n",
       "      <td>GRO</td>\n",
       "      <td>22136</td>\n",
       "      <td>4254300</td>\n",
       "      <td>1306</td>\n",
       "      <td>271080</td>\n",
       "      <td>0</td>\n",
       "      <td>0</td>\n",
       "      <td>23442</td>\n",
       "      <td>4525380</td>\n",
       "      <td>8</td>\n",
       "      <td>2021</td>\n",
       "      <td>NaN</td>\n",
       "    </tr>\n",
       "    <tr>\n",
       "      <th>2</th>\n",
       "      <td>2783</td>\n",
       "      <td>District-A</td>\n",
       "      <td>74</td>\n",
       "      <td>Mandal 25</td>\n",
       "      <td>Walk In Store</td>\n",
       "      <td>92</td>\n",
       "      <td>65340</td>\n",
       "      <td>70</td>\n",
       "      <td>15060</td>\n",
       "      <td>0</td>\n",
       "      <td>0</td>\n",
       "      <td>162</td>\n",
       "      <td>80400</td>\n",
       "      <td>9</td>\n",
       "      <td>2021</td>\n",
       "      <td>NaN</td>\n",
       "    </tr>\n",
       "    <tr>\n",
       "      <th>3</th>\n",
       "      <td>667</td>\n",
       "      <td>District-C</td>\n",
       "      <td>84</td>\n",
       "      <td>Mandal 63</td>\n",
       "      <td>GRO</td>\n",
       "      <td>23132</td>\n",
       "      <td>4554100</td>\n",
       "      <td>1698</td>\n",
       "      <td>356600</td>\n",
       "      <td>0</td>\n",
       "      <td>0</td>\n",
       "      <td>24830</td>\n",
       "      <td>4910700</td>\n",
       "      <td>9</td>\n",
       "      <td>2021</td>\n",
       "      <td>NaN</td>\n",
       "    </tr>\n",
       "    <tr>\n",
       "      <th>4</th>\n",
       "      <td>610</td>\n",
       "      <td>District-C</td>\n",
       "      <td>84</td>\n",
       "      <td>Mandal 63</td>\n",
       "      <td>GRO</td>\n",
       "      <td>25144</td>\n",
       "      <td>4832480</td>\n",
       "      <td>2442</td>\n",
       "      <td>506760</td>\n",
       "      <td>0</td>\n",
       "      <td>0</td>\n",
       "      <td>27586</td>\n",
       "      <td>5339240</td>\n",
       "      <td>4</td>\n",
       "      <td>2021</td>\n",
       "      <td>NaN</td>\n",
       "    </tr>\n",
       "  </tbody>\n",
       "</table>\n",
       "</div>"
      ],
      "text/plain": [
       "   S.NO District Name  Depot Code Mandal_Name Retailer Category  \\\n",
       "0   672    District-C          84   Mandal 63               GRO   \n",
       "1   660    District-C          84   Mandal 63               GRO   \n",
       "2  2783    District-A          74   Mandal 25     Walk In Store   \n",
       "3   667    District-C          84   Mandal 63               GRO   \n",
       "4   610    District-C          84   Mandal 63               GRO   \n",
       "\n",
       "   Category  A_Total Bottle  Category  A_Sale Value  Category  B_Total Bottle  \\\n",
       "0                     20974                 3890320                      1228   \n",
       "1                     22136                 4254300                      1306   \n",
       "2                        92                   65340                        70   \n",
       "3                     23132                 4554100                      1698   \n",
       "4                     25144                 4832480                      2442   \n",
       "\n",
       "   Category  B_Sale Value  Category  C_Total Bottle  Category  C_Sale Value  \\\n",
       "0                  261320                         0                       0   \n",
       "1                  271080                         0                       0   \n",
       "2                   15060                         0                       0   \n",
       "3                  356600                         0                       0   \n",
       "4                  506760                         0                       0   \n",
       "\n",
       "   Total Volume   Total Sale Value  Month  Year Unnamed: 15  \n",
       "0          22202           4151640     11  2021         NaN  \n",
       "1          23442           4525380      8  2021         NaN  \n",
       "2            162             80400      9  2021         NaN  \n",
       "3          24830           4910700      9  2021         NaN  \n",
       "4          27586           5339240      4  2021         NaN  "
      ]
     },
     "execution_count": 17,
     "metadata": {},
     "output_type": "execute_result"
    }
   ],
   "source": [
    "df.head()"
   ]
  },
  {
   "cell_type": "code",
   "execution_count": 42,
   "id": "82fbb623",
   "metadata": {},
   "outputs": [],
   "source": [
    "q3_2021_sales=df[(df['Year']==2021) & ((df['Month']==7) |(df['Month']==8) |(df['Month']==9))][['Retailer Category','Total Sale Value']]"
   ]
  },
  {
   "cell_type": "code",
   "execution_count": 37,
   "id": "a9bdd581",
   "metadata": {},
   "outputs": [
    {
     "data": {
      "text/html": [
       "<div>\n",
       "<style scoped>\n",
       "    .dataframe tbody tr th:only-of-type {\n",
       "        vertical-align: middle;\n",
       "    }\n",
       "\n",
       "    .dataframe tbody tr th {\n",
       "        vertical-align: top;\n",
       "    }\n",
       "\n",
       "    .dataframe thead th {\n",
       "        text-align: right;\n",
       "    }\n",
       "</style>\n",
       "<table border=\"1\" class=\"dataframe\">\n",
       "  <thead>\n",
       "    <tr style=\"text-align: right;\">\n",
       "      <th></th>\n",
       "      <th>Total Sale Value</th>\n",
       "    </tr>\n",
       "    <tr>\n",
       "      <th>Retailer Category</th>\n",
       "      <th></th>\n",
       "    </tr>\n",
       "  </thead>\n",
       "  <tbody>\n",
       "    <tr>\n",
       "      <th>GRO</th>\n",
       "      <td>105816515860</td>\n",
       "    </tr>\n",
       "    <tr>\n",
       "      <th>Tourism Outlet</th>\n",
       "      <td>1871395240</td>\n",
       "    </tr>\n",
       "    <tr>\n",
       "      <th>Tourism Walkin</th>\n",
       "      <td>932653760</td>\n",
       "    </tr>\n",
       "    <tr>\n",
       "      <th>Walk In Store</th>\n",
       "      <td>1134957220</td>\n",
       "    </tr>\n",
       "  </tbody>\n",
       "</table>\n",
       "</div>"
      ],
      "text/plain": [
       "                   Total Sale Value\n",
       "Retailer Category                  \n",
       "GRO                    105816515860\n",
       "Tourism Outlet           1871395240\n",
       "Tourism Walkin            932653760\n",
       "Walk In Store            1134957220"
      ]
     },
     "execution_count": 37,
     "metadata": {},
     "output_type": "execute_result"
    }
   ],
   "source": [
    "sales21=q3_2021_sales.groupby(by='Retailer Category').sum()\n",
    "sales21"
   ]
  },
  {
   "cell_type": "code",
   "execution_count": 39,
   "id": "e461f83c",
   "metadata": {},
   "outputs": [
    {
     "data": {
      "text/html": [
       "<div>\n",
       "<style scoped>\n",
       "    .dataframe tbody tr th:only-of-type {\n",
       "        vertical-align: middle;\n",
       "    }\n",
       "\n",
       "    .dataframe tbody tr th {\n",
       "        vertical-align: top;\n",
       "    }\n",
       "\n",
       "    .dataframe thead th {\n",
       "        text-align: right;\n",
       "    }\n",
       "</style>\n",
       "<table border=\"1\" class=\"dataframe\">\n",
       "  <thead>\n",
       "    <tr style=\"text-align: right;\">\n",
       "      <th></th>\n",
       "      <th>Total Sale Value</th>\n",
       "    </tr>\n",
       "    <tr>\n",
       "      <th>Retailer Category</th>\n",
       "      <th></th>\n",
       "    </tr>\n",
       "  </thead>\n",
       "  <tbody>\n",
       "    <tr>\n",
       "      <th>GRO</th>\n",
       "      <td>111886211760</td>\n",
       "    </tr>\n",
       "    <tr>\n",
       "      <th>Tourism Outlet</th>\n",
       "      <td>6140540780</td>\n",
       "    </tr>\n",
       "    <tr>\n",
       "      <th>Tourism Walkin</th>\n",
       "      <td>4696811620</td>\n",
       "    </tr>\n",
       "    <tr>\n",
       "      <th>Walk In Store</th>\n",
       "      <td>1050938440</td>\n",
       "    </tr>\n",
       "  </tbody>\n",
       "</table>\n",
       "</div>"
      ],
      "text/plain": [
       "                   Total Sale Value\n",
       "Retailer Category                  \n",
       "GRO                    111886211760\n",
       "Tourism Outlet           6140540780\n",
       "Tourism Walkin           4696811620\n",
       "Walk In Store            1050938440"
      ]
     },
     "execution_count": 39,
     "metadata": {},
     "output_type": "execute_result"
    }
   ],
   "source": [
    "q3_2022_sales=df[(df['Year']==2022) & ((df['Month']==7) |(df['Month']==8) |(df['Month']==9))][['Retailer Category','Total Sale Value']]\n",
    "sales22=q3_2022_sales.groupby(by='Retailer Category').sum()\n",
    "sales22"
   ]
  },
  {
   "cell_type": "code",
   "execution_count": 41,
   "id": "9b8066d9",
   "metadata": {},
   "outputs": [
    {
     "data": {
      "text/html": [
       "<div>\n",
       "<style scoped>\n",
       "    .dataframe tbody tr th:only-of-type {\n",
       "        vertical-align: middle;\n",
       "    }\n",
       "\n",
       "    .dataframe tbody tr th {\n",
       "        vertical-align: top;\n",
       "    }\n",
       "\n",
       "    .dataframe thead th {\n",
       "        text-align: right;\n",
       "    }\n",
       "</style>\n",
       "<table border=\"1\" class=\"dataframe\">\n",
       "  <thead>\n",
       "    <tr style=\"text-align: right;\">\n",
       "      <th></th>\n",
       "      <th>Total Sale Value</th>\n",
       "    </tr>\n",
       "    <tr>\n",
       "      <th>Retailer Category</th>\n",
       "      <th></th>\n",
       "    </tr>\n",
       "  </thead>\n",
       "  <tbody>\n",
       "    <tr>\n",
       "      <th>GRO</th>\n",
       "      <td>5.736057</td>\n",
       "    </tr>\n",
       "    <tr>\n",
       "      <th>Tourism Outlet</th>\n",
       "      <td>228.126344</td>\n",
       "    </tr>\n",
       "    <tr>\n",
       "      <th>Tourism Walkin</th>\n",
       "      <td>403.596492</td>\n",
       "    </tr>\n",
       "    <tr>\n",
       "      <th>Walk In Store</th>\n",
       "      <td>-7.402815</td>\n",
       "    </tr>\n",
       "  </tbody>\n",
       "</table>\n",
       "</div>"
      ],
      "text/plain": [
       "                   Total Sale Value\n",
       "Retailer Category                  \n",
       "GRO                        5.736057\n",
       "Tourism Outlet           228.126344\n",
       "Tourism Walkin           403.596492\n",
       "Walk In Store             -7.402815"
      ]
     },
     "execution_count": 41,
     "metadata": {},
     "output_type": "execute_result"
    }
   ],
   "source": [
    "growth=(sales22-sales21)*100/sales21\n",
    "growth"
   ]
  },
  {
   "cell_type": "code",
   "execution_count": 43,
   "id": "ff617310",
   "metadata": {},
   "outputs": [],
   "source": [
    "import matplotlib.pyplot as plt"
   ]
  },
  {
   "cell_type": "code",
   "execution_count": 55,
   "id": "0f3c13df",
   "metadata": {},
   "outputs": [],
   "source": [
    "sales21.rename({'Total Sale Value':'Q3 2021 sales'}, axis=1, inplace=True)"
   ]
  },
  {
   "cell_type": "code",
   "execution_count": 56,
   "id": "1e6d78c7",
   "metadata": {},
   "outputs": [],
   "source": [
    "sales22.rename({'Total Sale Value':'Q3 2022 sales'}, axis=1, inplace=True)"
   ]
  },
  {
   "cell_type": "code",
   "execution_count": 62,
   "id": "bc70b7ba",
   "metadata": {},
   "outputs": [],
   "source": [
    "sales21.reset_index(inplace=True)"
   ]
  },
  {
   "cell_type": "code",
   "execution_count": 63,
   "id": "4370c745",
   "metadata": {},
   "outputs": [],
   "source": [
    "sales22.reset_index(inplace=True)"
   ]
  },
  {
   "cell_type": "code",
   "execution_count": 66,
   "id": "ed2f8e40",
   "metadata": {},
   "outputs": [],
   "source": [
    "sales_data = sales21.merge(sales22)"
   ]
  },
  {
   "cell_type": "code",
   "execution_count": 74,
   "id": "29905adb",
   "metadata": {},
   "outputs": [
    {
     "data": {
      "text/html": [
       "<div>\n",
       "<style scoped>\n",
       "    .dataframe tbody tr th:only-of-type {\n",
       "        vertical-align: middle;\n",
       "    }\n",
       "\n",
       "    .dataframe tbody tr th {\n",
       "        vertical-align: top;\n",
       "    }\n",
       "\n",
       "    .dataframe thead th {\n",
       "        text-align: right;\n",
       "    }\n",
       "</style>\n",
       "<table border=\"1\" class=\"dataframe\">\n",
       "  <thead>\n",
       "    <tr style=\"text-align: right;\">\n",
       "      <th></th>\n",
       "      <th>Retailer Category</th>\n",
       "      <th>Q3 2021 sales</th>\n",
       "      <th>Q3 2022 sales</th>\n",
       "    </tr>\n",
       "  </thead>\n",
       "  <tbody>\n",
       "    <tr>\n",
       "      <th>0</th>\n",
       "      <td>GRO</td>\n",
       "      <td>105816515860</td>\n",
       "      <td>111886211760</td>\n",
       "    </tr>\n",
       "    <tr>\n",
       "      <th>1</th>\n",
       "      <td>Tourism Outlet</td>\n",
       "      <td>1871395240</td>\n",
       "      <td>6140540780</td>\n",
       "    </tr>\n",
       "    <tr>\n",
       "      <th>2</th>\n",
       "      <td>Tourism Walkin</td>\n",
       "      <td>932653760</td>\n",
       "      <td>4696811620</td>\n",
       "    </tr>\n",
       "    <tr>\n",
       "      <th>3</th>\n",
       "      <td>Walk In Store</td>\n",
       "      <td>1134957220</td>\n",
       "      <td>1050938440</td>\n",
       "    </tr>\n",
       "  </tbody>\n",
       "</table>\n",
       "</div>"
      ],
      "text/plain": [
       "  Retailer Category  Q3 2021 sales  Q3 2022 sales\n",
       "0               GRO   105816515860   111886211760\n",
       "1    Tourism Outlet     1871395240     6140540780\n",
       "2    Tourism Walkin      932653760     4696811620\n",
       "3     Walk In Store     1134957220     1050938440"
      ]
     },
     "execution_count": 74,
     "metadata": {},
     "output_type": "execute_result"
    }
   ],
   "source": [
    "sales_data"
   ]
  },
  {
   "cell_type": "code",
   "execution_count": 71,
   "id": "c49d2937",
   "metadata": {},
   "outputs": [],
   "source": [
    "import seaborn as sns"
   ]
  },
  {
   "cell_type": "code",
   "execution_count": 93,
   "id": "5d6155b2",
   "metadata": {},
   "outputs": [
    {
     "data": {
      "text/plain": [
       "Text(0.5, 1.0, 'Retailer wise sales for 2021 and 2022')"
      ]
     },
     "execution_count": 93,
     "metadata": {},
     "output_type": "execute_result"
    },
    {
     "data": {
      "text/plain": [
       "<Figure size 432x288 with 0 Axes>"
      ]
     },
     "metadata": {},
     "output_type": "display_data"
    },
    {
     "data": {
      "image/png": "[encoded data removed]",
      "text/plain": [
       "<Figure size 432x288 with 1 Axes>"
      ]
     },
     "metadata": {
      "needs_background": "light"
     },
     "output_type": "display_data"
    }
   ],
   "source": [
    "plt.figure()\n",
    "sales_data.plot(x=\"Retailer Category\", y=[\"Q3 2021 sales\", \"Q3 2022 sales\"], kind=\"bar\")\n",
    "plt.title('Retailer wise sales for 2021 and 2022')"
   ]
  },
  {
   "cell_type": "code",
   "execution_count": null,
   "id": "9c778104",
   "metadata": {},
   "outputs": [],
   "source": []
  }
 ],
 "metadata": {
  "kernelspec": {
   "display_name": "Python 3 (ipykernel)",
   "language": "python",
   "name": "python3"
  },
  "language_info": {
   "codemirror_mode": {
    "name": "ipython",
    "version": 3
   },
   "file_extension": ".py",
   "mimetype": "text/x-python",
   "name": "python",
   "nbconvert_exporter": "python",
   "pygments_lexer": "ipython3",
   "version": "3.9.12"
  }
 },
 "nbformat": 4,
 "nbformat_minor": 5
}
